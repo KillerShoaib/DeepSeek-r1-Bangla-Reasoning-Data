{
 "cells": [
  {
   "cell_type": "code",
   "execution_count": 1,
   "id": "dff252d1-f956-4281-ad5d-191b04dc2682",
   "metadata": {},
   "outputs": [],
   "source": [
    "import pandas as pd"
   ]
  },
  {
   "cell_type": "code",
   "execution_count": 5,
   "id": "408de246-15c1-4372-b691-41758384207e",
   "metadata": {},
   "outputs": [],
   "source": [
    "df = pd.read_csv(\"../token_counter.csv\")"
   ]
  },
  {
   "cell_type": "code",
   "execution_count": 8,
   "id": "15e07a11-9e31-4426-a2d4-f41f6ffdf535",
   "metadata": {},
   "outputs": [
    {
     "data": {
      "text/plain": [
       "2.842082"
      ]
     },
     "execution_count": 8,
     "metadata": {},
     "output_type": "execute_result"
    }
   ],
   "source": [
    "# total token usage on million\n",
    "df['total_token'].sum()/1000000"
   ]
  },
  {
   "cell_type": "code",
   "execution_count": 16,
   "id": "eb609bc6-3c27-4c19-908b-7ac7d8ab09f0",
   "metadata": {},
   "outputs": [
    {
     "data": {
      "text/plain": [
       "0.430995"
      ]
     },
     "execution_count": 16,
     "metadata": {},
     "output_type": "execute_result"
    }
   ],
   "source": [
    "# input token usage on million\n",
    "df['input_token'].sum()/1000000"
   ]
  },
  {
   "cell_type": "code",
   "execution_count": 19,
   "id": "dc57f91e-7bfd-48de-864d-c5dd43ace1e6",
   "metadata": {},
   "outputs": [
    {
     "data": {
      "text/plain": [
       "2.411087"
      ]
     },
     "execution_count": 19,
     "metadata": {},
     "output_type": "execute_result"
    }
   ],
   "source": [
    "# input token usage on million\n",
    "df['output_token'].sum()/1000000"
   ]
  },
  {
   "cell_type": "code",
   "execution_count": 14,
   "id": "165b01bf-4b10-419c-b7fd-a78d329b0ea5",
   "metadata": {},
   "outputs": [
    {
     "data": {
      "text/plain": [
       "2983"
      ]
     },
     "execution_count": 14,
     "metadata": {},
     "output_type": "execute_result"
    }
   ],
   "source": [
    "len(df['total_token'].values) # 2983 sample took around 5.89$"
   ]
  },
  {
   "cell_type": "code",
   "execution_count": 23,
   "id": "a9c45667-42b4-4b6e-88f8-5cb8ac0033bb",
   "metadata": {},
   "outputs": [],
   "source": [
    "import json\n",
    "with open(\"reasoning_bangla_r1_synthetic_data.json\",'r') as file:\n",
    "    data = json.load(file)"
   ]
  },
  {
   "cell_type": "code",
   "execution_count": null,
   "id": "f09afd53-c7b8-4a5b-9305-421ec8f6aa43",
   "metadata": {},
   "outputs": [],
   "source": []
  },
  {
   "cell_type": "code",
   "execution_count": null,
   "id": "0b91e143-e604-4d58-9db9-ba309b1f182c",
   "metadata": {},
   "outputs": [],
   "source": []
  }
 ],
 "metadata": {
  "kernelspec": {
   "display_name": "Python 3",
   "language": "python",
   "name": "python3"
  },
  "language_info": {
   "codemirror_mode": {
    "name": "ipython",
    "version": 3
   },
   "file_extension": ".py",
   "mimetype": "text/x-python",
   "name": "python",
   "nbconvert_exporter": "python",
   "pygments_lexer": "ipython3",
   "version": "3.10.10"
  }
 },
 "nbformat": 4,
 "nbformat_minor": 5
}
