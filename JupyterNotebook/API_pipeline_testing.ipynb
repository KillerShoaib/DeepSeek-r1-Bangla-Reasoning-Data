{
 "cells": [
  {
   "cell_type": "markdown",
   "id": "d9a06a53",
   "metadata": {},
   "source": [
    "# Installing the necessary Modules"
   ]
  },
  {
   "cell_type": "code",
   "execution_count": null,
   "id": "e6ae43a3",
   "metadata": {},
   "outputs": [],
   "source": [
    "!pip install datasets"
   ]
  },
  {
   "cell_type": "markdown",
   "id": "cfd26294",
   "metadata": {},
   "source": [
    "# Importing Necessary Libraries"
   ]
  },
  {
   "cell_type": "code",
   "execution_count": 55,
   "id": "3c1427c1",
   "metadata": {},
   "outputs": [],
   "source": [
    "import re\n",
    "import requests\n",
    "from datasets import load_dataset\n",
    "from typing import List, Tuple, Dict\n",
    "from dotenv import load_dotenv\n",
    "import os\n",
    "import json\n",
    "load_dotenv()\n",
    "\n",
    "DEEPSEEK_API = os.environ['DEEPSEEK_API']"
   ]
  },
  {
   "cell_type": "markdown",
   "id": "395b5625",
   "metadata": {},
   "source": [
    "# Step 1. Loading the dataset"
   ]
  },
  {
   "cell_type": "code",
   "execution_count": 2,
   "id": "465c38f5",
   "metadata": {},
   "outputs": [],
   "source": [
    "dataset = load_dataset(\"hishab/bangla-mmlu\")\n",
    "\n",
    "# splitting into different sets\n",
    "\n",
    "validation = dataset[\"validation\"]\n",
    "test = dataset[\"test\"]\n",
    "dev = dataset['dev']"
   ]
  },
  {
   "cell_type": "markdown",
   "id": "a2bdd9df",
   "metadata": {},
   "source": [
    "# Step 2. Working with a single Set (i.e, Validation)"
   ]
  },
  {
   "cell_type": "markdown",
   "id": "18d9e3df-adf6-47dc-85b2-fb18949be64b",
   "metadata": {},
   "source": [
    "## Formatting The Question"
   ]
  },
  {
   "cell_type": "code",
   "execution_count": 3,
   "id": "c190e045",
   "metadata": {},
   "outputs": [],
   "source": [
    "def format_question(sample: Dict) -> Dict:\n",
    "    \"\"\"\n",
    "    A function to format the question with proper option in a clear way so that the llm have easy time understanding it without any confusion\n",
    "    i.e, \"Question in Bangla: নিচের কোনটিতে মেটামারিজম অনুপস্থিত?\n",
    "        Options in Bangla: {\"A\":'সেকেন্ডারি অ্যামিন', \"B\":'কিটোন', \"C\": 'অ্যালকোহল', \"D\": 'ইথার'}\"\n",
    "\n",
    "    Inputs:\n",
    "    sample =  A dict object containing id,question, choices and answer field\n",
    "\n",
    "    Output:\n",
    "    Dictionary object containing evarything in input dict and formated question (str)\n",
    "    \"\"\"\n",
    "\n",
    "    ID = sample['id']\n",
    "    question = sample['question']\n",
    "    choices = sample['choices']\n",
    "    answer = sample['answer']\n",
    "\n",
    "\n",
    "    # formating the Question\n",
    "    formated_option = {\n",
    "        \"A\": choices[0],\n",
    "        \"B\": choices[1],\n",
    "        \"C\": choices[2],\n",
    "        \"D\": choices[3],\n",
    "    }\n",
    "\n",
    "    formated_question = f\"\"\"Below there is a Bangla multiple choice question with 4 option, you need to find the correct option for the question.\n",
    "    Question in Bangla: {question}\n",
    "    Options in Bangla: {str(formated_option)}\"\"\"\n",
    "    \n",
    "    sample_with_formated_question = {\n",
    "        'id':ID,\n",
    "        'question': question,\n",
    "        'choices': choices,\n",
    "        'answer': answer,\n",
    "        'formated_question': formated_question\n",
    "    }\n",
    "\n",
    "    return sample_with_formated_question"
   ]
  },
  {
   "cell_type": "code",
   "execution_count": 7,
   "id": "b3f1096d",
   "metadata": {},
   "outputs": [
    {
     "data": {
      "text/plain": [
       "{'id': '32f661ee-5fde-4209-93cb-0f7fe37a6f75-71577',\n",
       " 'question': '\"Am I wanted by you?\" বাক্যের Active Voice হচ্ছে-',\n",
       " 'choices': ['Are you wanted me?',\n",
       "  'Did you wanted me?',\n",
       "  'Do you want me?',\n",
       "  'Does you want me?'],\n",
       " 'answer': 'C',\n",
       " 'formated_question': 'Below there is a Bangla multiple choice question with 4 option, you need to find the correct option for the question.\\n    Question in Bangla: \"Am I wanted by you?\" বাক্যের Active Voice হচ্ছে-\\n    Options in Bangla: {\\'A\\': \\'Are you wanted me?\\', \\'B\\': \\'Did you wanted me?\\', \\'C\\': \\'Do you want me?\\', \\'D\\': \\'Does you want me?\\'}'}"
      ]
     },
     "execution_count": 7,
     "metadata": {},
     "output_type": "execute_result"
    }
   ],
   "source": [
    "## checking if the function\n",
    "\n",
    "format_question(validation[6])"
   ]
  },
  {
   "cell_type": "code",
   "execution_count": 5,
   "id": "e8eda5b2-10e1-4d9d-8ea8-61ea48da9475",
   "metadata": {},
   "outputs": [
    {
     "data": {
      "text/plain": [
       "72944"
      ]
     },
     "execution_count": 5,
     "metadata": {},
     "output_type": "execute_result"
    }
   ],
   "source": [
    "len(validation)"
   ]
  },
  {
   "cell_type": "code",
   "execution_count": 42,
   "id": "e98b075d-2636-4e55-a793-9bb370d22d6a",
   "metadata": {},
   "outputs": [
    {
     "data": {
      "text/plain": [
       "{'id': 'e7a15d85-d42f-4a26-ace7-cea8809de0b5-121871',\n",
       " 'question': 'কোন জীবাণুর কারণে আলুর বিলম্বিত ধ্বসা রােগ হয়?',\n",
       " 'choices': ['Puccinia', 'Pythium', 'Phytophthora', 'Penicillium'],\n",
       " 'answer': 'C'}"
      ]
     },
     "execution_count": 42,
     "metadata": {},
     "output_type": "execute_result"
    }
   ],
   "source": [
    "validation[7]"
   ]
  },
  {
   "cell_type": "markdown",
   "id": "e5495bca-a653-4139-b4f3-13abb4a863db",
   "metadata": {},
   "source": [
    "## Building the API pipeline"
   ]
  },
  {
   "cell_type": "code",
   "execution_count": 43,
   "id": "140c2904-45c6-4aff-83ae-b83bfcc8956e",
   "metadata": {},
   "outputs": [],
   "source": [
    "def api_calling(sample):\n",
    "    \n",
    "    formated_question = sample['formated_question']\n",
    "    url = \"https://api.hyperbolic.xyz/v1/chat/completions\"\n",
    "    headers = {\n",
    "        \"Content-Type\": \"application/json\",\n",
    "        \"Authorization\": f\"Bearer {DEEPSEEK_API}\"\n",
    "    }\n",
    "    system_instruction = \"\"\"You are an inteligent assistant which will help the user to answer multiple choice question. The multiple choice question is in bangla and your final answer will always be in bangla.\"\"\"\n",
    "    \n",
    "    data = {\n",
    "        \"messages\": [\n",
    "            {\n",
    "                \"role\": \"system\",\n",
    "                \"content\": system_instruction\n",
    "            },\n",
    "            {\n",
    "                \"role\": \"user\",\n",
    "                \"content\": formated_question\n",
    "            }\n",
    "        ],\n",
    "        \"model\": \"deepseek-ai/DeepSeek-R1\",\n",
    "        \"temperature\": 0.1,\n",
    "        \"top_p\": 0.2\n",
    "    }\n",
    "    \n",
    "    response = requests.post(url, headers=headers, json=data)\n",
    "    return response.json()"
   ]
  },
  {
   "cell_type": "code",
   "execution_count": 44,
   "id": "e2de0f03-980b-44c6-9e2c-9de6c2f8c251",
   "metadata": {},
   "outputs": [],
   "source": [
    "# testing api calling\n",
    "\n",
    "formatted_sample = format_question(validation[7])\n",
    "\n",
    "response_json  = api_calling(formatted_sample)"
   ]
  },
  {
   "cell_type": "code",
   "execution_count": 45,
   "id": "1ce71645-e9d5-46b1-bbe7-60b7b458b93f",
   "metadata": {},
   "outputs": [
    {
     "data": {
      "text/plain": [
       "{'id': 'chatcmpl-t7unX7BycuApvA6D5AUrkY',\n",
       " 'object': 'chat.completion',\n",
       " 'created': 1740189667,\n",
       " 'model': 'deepseek-ai/DeepSeek-R1',\n",
       " 'choices': [{'index': 0,\n",
       "   'message': {'role': 'assistant',\n",
       "    'content': \"<think>Okay, let's see. The question is asking which pathogen causes the late blight disease in potatoes. The options are Puccinia, Pythium, Phytophthora, and Penicillium.\\n\\nFirst, I remember that late blight is a famous plant disease. I think it's the one that caused the Irish potato famine. The name Phytophthora infestans comes to mind. So Phytophthora would be option C. Let me check the other options to be sure. Puccinia is a genus of rust fungi, maybe causes wheat rust. Pythium is associated with damping-off in seedlings. Penicillium is the mold used for antibiotics, like Penicillin. So yeah, the correct answer should be C.\\n</think>\\n\\nThe correct answer is C: Phytophthora. আলুর বিলম্বিত ধ্বসা রোগের জন্য দায়ী জীবাণু হলো Phytophthora infestans, যা Phytophthora গণের অন্তর্ভুক্ত। অন্যান্য অপশনগুলির মধ্যে Puccinia গমের মরিচা রোগ, Pythium চারার ড্যাম্পিং-অফ রোগ এবং Penicillium একটি ছত্রাক যা সাধারণত পেনিসিলিন উৎপাদনের জন্য ব্যবহৃত হয়। \\n\\n**উত্তর:** C\"},\n",
       "   'finish_reason': 'stop',\n",
       "   'logprobs': None}],\n",
       " 'usage': {'prompt_tokens': 130,\n",
       "  'total_tokens': 402,\n",
       "  'completion_tokens': 272}}"
      ]
     },
     "execution_count": 45,
     "metadata": {},
     "output_type": "execute_result"
    }
   ],
   "source": [
    "response_json"
   ]
  },
  {
   "cell_type": "code",
   "execution_count": null,
   "id": "0b3819e4-f204-40eb-8b45-f1da1da7ba5e",
   "metadata": {},
   "outputs": [],
   "source": [
    "{'error_code': 124, 'message': \"Model requires a role of 'pro' or higher\"}"
   ]
  },
  {
   "cell_type": "code",
   "execution_count": 62,
   "id": "0eef3769-c8a8-4efa-aabd-c3810376b49e",
   "metadata": {},
   "outputs": [],
   "source": [
    "def log_fail(sample_no:int, set_name:str, sample_id:str):\n",
    "\n",
    "    header = \"sample_no,set_name,sample_id\\n\"  # Include newline\n",
    "    filename = \"failed_sample.csv\"\n",
    "    # Check if the file exists and if it's empty.  More robust than just checking existence.\n",
    "    if not os.path.exists(filename) or os.path.getsize(filename) == 0:\n",
    "        with open(filename, 'w') as file:  # Use 'w' to create and write the header\n",
    "            file.write(header)\n",
    "    \n",
    "    with open(filename,'a') as file:\n",
    "        log_value = f\"{str(sample_no)},{set_name},{sample_id}\\n\"\n",
    "        file.write(log_value)\n",
    "    print(f\"Failed to get response for sameple no = {sample_no} in {set_name} set\")\n",
    "    "
   ]
  },
  {
   "cell_type": "code",
   "execution_count": 12,
   "id": "a8267f21-033b-478d-8184-27a2ccc6dbda",
   "metadata": {},
   "outputs": [],
   "source": [
    "def split_think_reason(respons_string:str):\n",
    "    # Use regular expression to find the content within the <think> tag\n",
    "    think_content = re.search(r'<think>(.*?)</think>', respons_string, re.DOTALL).group(0)\n",
    "    \n",
    "    # Remove the <think> tag and its content from the original prompt\n",
    "    ans_content = re.sub(r'<think>(.*?)</think>', '', respons_string, flags=re.DOTALL).strip()\n",
    "\n",
    "    think_ans_response = {\n",
    "        'think': think_content,\n",
    "        'ans': ans_content\n",
    "    }\n",
    "\n",
    "    return think_ans_response"
   ]
  },
  {
   "cell_type": "code",
   "execution_count": 28,
   "id": "45ec4535-0ab1-4d1d-bbe7-761dbd09907b",
   "metadata": {},
   "outputs": [],
   "source": [
    "def log_token_count(usage:Dict,sample_no:int,set_name:str):\n",
    "    input_token = usage['usage']['prompt_tokens']\n",
    "    output_token = usage['usage']['completion_tokens']\n",
    "    total_token = usage['usage']['total_tokens']\n",
    "\n",
    "    header = \"sample_no,set_name,input_token,output_token,total_token\\n\"  # Include newline\n",
    "    filename = 'token_counter.csv'\n",
    "    # Check if the file exists and if it's empty.  More robust than just checking existence.\n",
    "    if not os.path.exists(filename) or os.path.getsize(filename) == 0:\n",
    "        with open(filename, 'w') as file:  # Use 'w' to create and write the header\n",
    "            file.write(header)\n",
    "\n",
    "    with open(filename,'a') as file:\n",
    "        value = f\"{sample_no},{set_name},{input_token},{output_token},{total_token}\\n\"\n",
    "        file.write(value)\n",
    "\n",
    "    print(f\"Total token for sample {sample_no} in {set_name} = {total_token}\")"
   ]
  },
  {
   "cell_type": "code",
   "execution_count": 50,
   "id": "41b27ee4-cc60-4053-a221-c3ed9296a38f",
   "metadata": {},
   "outputs": [],
   "source": [
    "def create_sample_json(think_response:Dict, formated_question:Dict):\n",
    "    think = think_response['think']\n",
    "    gen_ans = think_response['ans']\n",
    "    \n",
    "    question = formated_question['question']\n",
    "    options = formated_question['choices']\n",
    "    actual_ans = formated_question['answer']\n",
    "    formated_question_only = formated_question['formated_question']\n",
    "    id = formated_question['id']\n",
    "\n",
    "    return {\n",
    "        \"id\":id,\n",
    "        \"question\": question,\n",
    "        \"options\": options,\n",
    "        \"answer\": actual_ans,\n",
    "        \"formated_question\": formated_question_only,\n",
    "        \"reason\": think,\n",
    "        \"gen_ans\": gen_ans,\n",
    "    }"
   ]
  },
  {
   "cell_type": "code",
   "execution_count": 51,
   "id": "cfb263e8-e9b0-4806-a4bc-58519ac50a95",
   "metadata": {},
   "outputs": [
    {
     "data": {
      "text/plain": [
       "{'id': 'e7a15d85-d42f-4a26-ace7-cea8809de0b5-121871',\n",
       " 'question': 'কোন জীবাণুর কারণে আলুর বিলম্বিত ধ্বসা রােগ হয়?',\n",
       " 'options': ['Puccinia', 'Pythium', 'Phytophthora', 'Penicillium'],\n",
       " 'answer': 'C',\n",
       " 'formated_question': \"Below there is a Bangla multiple choice question with 4 option, you need to find the correct option for the question.\\n    Question in Bangla: কোন জীবাণুর কারণে আলুর বিলম্বিত ধ্বসা রােগ হয়?\\n    Options in Bangla: {'A': 'Puccinia', 'B': 'Pythium', 'C': 'Phytophthora', 'D': 'Penicillium'}\",\n",
       " 'reason': \"<think>Okay, let's see. The question is asking which pathogen causes the late blight disease in potatoes. The options are Puccinia, Pythium, Phytophthora, and Penicillium.\\n\\nFirst, I remember that late blight is a famous plant disease. I think it's the one that caused the Irish potato famine. The name Phytophthora infestans comes to mind. So Phytophthora would be option C. Let me check the other options to be sure. Puccinia is a genus of rust fungi, maybe causes wheat rust. Pythium is associated with damping-off in seedlings. Penicillium is the mold used for antibiotics, like Penicillin. So yeah, the correct answer should be C.\\n</think>\",\n",
       " 'gen_ans': 'The correct answer is C: Phytophthora. আলুর বিলম্বিত ধ্বসা রোগের জন্য দায়ী জীবাণু হলো Phytophthora infestans, যা Phytophthora গণের অন্তর্ভুক্ত। অন্যান্য অপশনগুলির মধ্যে Puccinia গমের মরিচা রোগ, Pythium চারার ড্যাম্পিং-অফ রোগ এবং Penicillium একটি ছত্রাক যা সাধারণত পেনিসিলিন উৎপাদনের জন্য ব্যবহৃত হয়। \\n\\n**উত্তর:** C'}"
      ]
     },
     "execution_count": 51,
     "metadata": {},
     "output_type": "execute_result"
    }
   ],
   "source": [
    "split_think= split_think_reason(response_json['choices'][0]['message']['content'])\n",
    "\n",
    "create_sample_json(split_think,formatted_sample)"
   ]
  },
  {
   "cell_type": "code",
   "execution_count": 103,
   "id": "7ccc0c2a-81a2-4727-8b9b-d3969320b8ad",
   "metadata": {},
   "outputs": [],
   "source": [
    "def save_new_data(data_list:List):\n",
    "    file_name = \"reasoning_bangla_r1_synthetic_data.json\"\n",
    "\n",
    "    with open(file_name,'w') as file:\n",
    "        try:\n",
    "            json.dump(data_list,file,indent=4,ensure_ascii=False)\n",
    "        except:\n",
    "            print(\"Error while saving to json file\")"
   ]
  },
  {
   "cell_type": "code",
   "execution_count": 104,
   "id": "672a2e7c-a655-41c0-b25a-c78bdc33e4a4",
   "metadata": {},
   "outputs": [],
   "source": [
    "## building the main pipeline\n",
    "\n",
    "def main(dataset,set_name):\n",
    "\n",
    "    data_from_a_specific_set = dataset[set_name].to_list() # converting to list object\n",
    "    all_new_data_list = []\n",
    "    # print(data_from_a_specific_set[:2])\n",
    "\n",
    "    # now looping each item manually\n",
    "    for sample_no,sample in enumerate(data_from_a_specific_set[:2]):\n",
    "        # print(sample_no)\n",
    "        # print(sample)\n",
    "        # first formate the question\n",
    "        format_question_sample =  format_question(sample)\n",
    "\n",
    "        # now calling the api\n",
    "        try:\n",
    "            response_json  = api_calling(format_question_sample)\n",
    "\n",
    "            # now checking if we got the proper response from it or not\n",
    "            if('choices' in response_json and isinstance(response_json['choices'], list)):\n",
    "                # splitting the think and ans from the generated ans\n",
    "                split_think = split_think_reason(response_json['choices'][0]['message']['content'])\n",
    "                new_data_sample = create_sample_json(split_think,format_question_sample)\n",
    "                all_new_data_list.append(new_data_sample) # appending to the list\n",
    "                # print(all_new_data_list)\n",
    "\n",
    "                # saving the value every time\n",
    "                save_new_data(all_new_data_list)\n",
    "                # logging the token count\n",
    "                log_token_count(response_json,sample_no,set_name)\n",
    "            else:\n",
    "                # didn't get the right response need to log\n",
    "                log_fail(sample_no,set_name,format_question_sample['id'])\n",
    "        \n",
    "        except:\n",
    "            # logging the error\n",
    "            log_fail(sample_no,set_name,format_question_sample['id'])\n",
    "\n",
    "    return all_new_data_list"
   ]
  },
  {
   "cell_type": "code",
   "execution_count": 106,
   "id": "80c96e33-3815-4dfe-864e-332041588f04",
   "metadata": {},
   "outputs": [
    {
     "name": "stdout",
     "output_type": "stream",
     "text": [
      "Total token for sample 0 in test = 727\n",
      "Total token for sample 1 in test = 2507\n"
     ]
    }
   ],
   "source": [
    "datalist = main(dataset,'test')"
   ]
  },
  {
   "cell_type": "code",
   "execution_count": 98,
   "id": "1116b20b-b0f3-444d-a371-f377884aae21",
   "metadata": {},
   "outputs": [
    {
     "data": {
      "text/plain": [
       "2"
      ]
     },
     "execution_count": 98,
     "metadata": {},
     "output_type": "execute_result"
    }
   ],
   "source": [
    "len(datalist)"
   ]
  },
  {
   "cell_type": "code",
   "execution_count": 101,
   "id": "134150ba-c7e8-48e3-ab48-9b86e382e615",
   "metadata": {},
   "outputs": [
    {
     "name": "stdout",
     "output_type": "stream",
     "text": [
      "{'id': '77fe50bf-3147-4b3e-a0e4-8cc1b4eaeb5c-78813', 'question': '“Run away children” said their mother. বাক্যটির indirect speech হবে-', 'choices': ['Addressing the children, their mother said to them to run away.', 'Addressing the children, their mother urged them to run away.', 'Addressing the children, their mother told them to run away.', 'Address the children, their mother asked them to run away.'], 'answer': 'C'}\n",
      "{'id': '2ce4a431-04cc-4e19-bf0e-eb7a38ceda54-86481', 'question': 'CuSO4 দ্রবণে 5000 mA বিদ্যুৎ 1.0 ঘন্টা চালনা করলে ক্যাথোডে কি পরিমাণ Cu জমা হবে?', 'choices': ['5.8222g', '5.5222 g', '5.7222 g', '5.9222 g'], 'answer': 'D'}\n"
     ]
    }
   ],
   "source": [
    "for i,j in enumerate(dataset['test'].to_list()[:2]):\n",
    "    print(j)"
   ]
  },
  {
   "cell_type": "code",
   "execution_count": 102,
   "id": "a54bd224-0be5-4c02-b2df-4b71028d50b6",
   "metadata": {},
   "outputs": [],
   "source": [
    "save_new_data(datalist)"
   ]
  },
  {
   "cell_type": "code",
   "execution_count": null,
   "id": "dc7d5474-0ba9-4292-ba24-690ea7308108",
   "metadata": {},
   "outputs": [],
   "source": []
  }
 ],
 "metadata": {
  "kernelspec": {
   "display_name": "Python 3",
   "language": "python",
   "name": "python3"
  },
  "language_info": {
   "codemirror_mode": {
    "name": "ipython",
    "version": 3
   },
   "file_extension": ".py",
   "mimetype": "text/x-python",
   "name": "python",
   "nbconvert_exporter": "python",
   "pygments_lexer": "ipython3",
   "version": "3.10.10"
  }
 },
 "nbformat": 4,
 "nbformat_minor": 5
}
