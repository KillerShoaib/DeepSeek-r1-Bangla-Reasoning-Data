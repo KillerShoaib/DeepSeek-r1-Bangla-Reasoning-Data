{
 "cells": [
  {
   "cell_type": "markdown",
   "id": "d9a06a53",
   "metadata": {},
   "source": [
    "# Installing the necessary Modules"
   ]
  },
  {
   "cell_type": "code",
   "execution_count": null,
   "id": "e6ae43a3",
   "metadata": {},
   "outputs": [],
   "source": [
    "!pip install datasets"
   ]
  },
  {
   "cell_type": "markdown",
   "id": "cfd26294",
   "metadata": {},
   "source": [
    "# Importing Necessary Libraries"
   ]
  },
  {
   "cell_type": "code",
   "execution_count": 11,
   "id": "3c1427c1",
   "metadata": {},
   "outputs": [],
   "source": [
    "import re\n",
    "import requests\n",
    "from datasets import load_dataset\n",
    "from typing import List, Tuple, Dict\n",
    "from dotenv import load_dotenv\n",
    "import os\n",
    "load_dotenv()\n",
    "\n",
    "DEEPSEEK_API = os.environ['DEEPSEEK_API']"
   ]
  },
  {
   "cell_type": "markdown",
   "id": "395b5625",
   "metadata": {},
   "source": [
    "# Step 1. Loading the dataset"
   ]
  },
  {
   "cell_type": "code",
   "execution_count": 2,
   "id": "465c38f5",
   "metadata": {},
   "outputs": [
    {
     "data": {
      "application/vnd.jupyter.widget-view+json": {
       "model_id": "5578ffc73dda4a4d9fe6e38e7a398977",
       "version_major": 2,
       "version_minor": 0
      },
      "text/plain": [
       "README.md:   0%|          | 0.00/618 [00:00<?, ?B/s]"
      ]
     },
     "metadata": {},
     "output_type": "display_data"
    },
    {
     "data": {
      "application/vnd.jupyter.widget-view+json": {
       "model_id": "9b55000f8427433586abcb628960f0ad",
       "version_major": 2,
       "version_minor": 0
      },
      "text/plain": [
       "dev-00000-of-00001.parquet:   0%|          | 0.00/33.6k [00:00<?, ?B/s]"
      ]
     },
     "metadata": {},
     "output_type": "display_data"
    },
    {
     "data": {
      "application/vnd.jupyter.widget-view+json": {
       "model_id": "88f35c02935b4e7ab5b35efc97aae3a3",
       "version_major": 2,
       "version_minor": 0
      },
      "text/plain": [
       "test-00000-of-00001.parquet:   0%|          | 0.00/2.52M [00:00<?, ?B/s]"
      ]
     },
     "metadata": {},
     "output_type": "display_data"
    },
    {
     "data": {
      "application/vnd.jupyter.widget-view+json": {
       "model_id": "d6073eaf72524f96adc825bd21908044",
       "version_major": 2,
       "version_minor": 0
      },
      "text/plain": [
       "validation-00000-of-00001.parquet:   0%|          | 0.00/12.0M [00:00<?, ?B/s]"
      ]
     },
     "metadata": {},
     "output_type": "display_data"
    },
    {
     "data": {
      "application/vnd.jupyter.widget-view+json": {
       "model_id": "90bc54fa0b164e83a4e0483299345767",
       "version_major": 2,
       "version_minor": 0
      },
      "text/plain": [
       "Generating dev split:   0%|          | 0/175 [00:00<?, ? examples/s]"
      ]
     },
     "metadata": {},
     "output_type": "display_data"
    },
    {
     "data": {
      "application/vnd.jupyter.widget-view+json": {
       "model_id": "8401eefaa3eb47c5bb93c2399e8e7cc6",
       "version_major": 2,
       "version_minor": 0
      },
      "text/plain": [
       "Generating test split:   0%|          | 0/14750 [00:00<?, ? examples/s]"
      ]
     },
     "metadata": {},
     "output_type": "display_data"
    },
    {
     "data": {
      "application/vnd.jupyter.widget-view+json": {
       "model_id": "7429b53c011d431791b34b9a192c2b24",
       "version_major": 2,
       "version_minor": 0
      },
      "text/plain": [
       "Generating validation split:   0%|          | 0/72944 [00:00<?, ? examples/s]"
      ]
     },
     "metadata": {},
     "output_type": "display_data"
    }
   ],
   "source": [
    "dataset = load_dataset(\"hishab/bangla-mmlu\")\n",
    "\n",
    "# splitting into different sets\n",
    "\n",
    "validation = dataset[\"validation\"]\n",
    "test = dataset[\"test\"]\n",
    "dev = dataset['dev']"
   ]
  },
  {
   "cell_type": "markdown",
   "id": "a2bdd9df",
   "metadata": {},
   "source": [
    "# Step 2. Working with a single Set (i.e, Validation)"
   ]
  },
  {
   "cell_type": "markdown",
   "id": "18d9e3df-adf6-47dc-85b2-fb18949be64b",
   "metadata": {},
   "source": [
    "## Formatting The Question"
   ]
  },
  {
   "cell_type": "code",
   "execution_count": 9,
   "id": "c190e045",
   "metadata": {},
   "outputs": [],
   "source": [
    "def format_question(sample: Dict) -> Dict:\n",
    "    \"\"\"\n",
    "    A function to format the question with proper option in a clear way so that the llm have easy time understanding it without any confusion\n",
    "    i.e, \"Question in Bangla: নিচের কোনটিতে মেটামারিজম অনুপস্থিত?\n",
    "        Options in Bangla: {\"A\":'সেকেন্ডারি অ্যামিন', \"B\":'কিটোন', \"C\": 'অ্যালকোহল', \"D\": 'ইথার'}\"\n",
    "\n",
    "    Inputs:\n",
    "    sample =  A dict object containing id,question, choices and answer field\n",
    "\n",
    "    Output:\n",
    "    Dictionary object containing evarything in input dict and formated question (str)\n",
    "    \"\"\"\n",
    "\n",
    "    ID = sample['id']\n",
    "    question = sample['question']\n",
    "    choices = sample['choices']\n",
    "    answer = sample['answer']\n",
    "\n",
    "\n",
    "    # formating the Question\n",
    "    formated_option = {\n",
    "        \"A\": choices[0],\n",
    "        \"B\": choices[1],\n",
    "        \"C\": choices[2],\n",
    "        \"D\": choices[3],\n",
    "    }\n",
    "\n",
    "    formated_question = f\"\"\"Below there is a Bangla multiple choice question with 4 option, you need to find the correct option for the question.\n",
    "    Question in Bangla: {question}\n",
    "    Options in Bangla: {str(formated_option)}\"\"\"\n",
    "    \n",
    "    sample_with_formated_question = {\n",
    "        'id':ID,\n",
    "        'question': question,\n",
    "        'choices': choices,\n",
    "        'answer': answer,\n",
    "        'formated_question': formated_question\n",
    "    }\n",
    "\n",
    "    return sample_with_formated_question"
   ]
  },
  {
   "cell_type": "code",
   "execution_count": 10,
   "id": "b3f1096d",
   "metadata": {},
   "outputs": [
    {
     "data": {
      "text/plain": [
       "{'id': '4c6b8f9d-93a9-4f46-a90b-6717a42597ae-70221',\n",
       " 'question': '∛-8 এর মান কত?',\n",
       " 'choices': ['-2', '2i', '-2, 1 ± i√3', '-2, 1 ± i√2'],\n",
       " 'answer': 'C',\n",
       " 'formated_question': \"Below there is a Bangla multiple choice question with 4 option, you need to find the correct option for the question.\\n    Question in Bangla: ∛-8 এর মান কত?\\n    Options in Bangla: {'A': '-2', 'B': '2i', 'C': '-2, 1 ± i√3', 'D': '-2, 1 ± i√2'}\"}"
      ]
     },
     "execution_count": 10,
     "metadata": {},
     "output_type": "execute_result"
    }
   ],
   "source": [
    "## checking if the function\n",
    "\n",
    "format_question(validation[0])"
   ]
  },
  {
   "cell_type": "markdown",
   "id": "e5495bca-a653-4139-b4f3-13abb4a863db",
   "metadata": {},
   "source": [
    "## Building the API pipeline"
   ]
  },
  {
   "cell_type": "code",
   "execution_count": 21,
   "id": "140c2904-45c6-4aff-83ae-b83bfcc8956e",
   "metadata": {},
   "outputs": [],
   "source": [
    "def api_calling(sample):\n",
    "    \n",
    "    formated_question = sample['formated_question']\n",
    "    url = \"https://api.hyperbolic.xyz/v1/chat/completions\"\n",
    "    headers = {\n",
    "        \"Content-Type\": \"application/json\",\n",
    "        \"Authorization\": f\"Bearer {DEEPSEEK_API}\"\n",
    "    }\n",
    "    system_instruction = \"\"\"You are an inteligent assistant which will help the user to answer multiple choice question. The multiple choice question is in bangla and your final answer will always be in bangla.\"\"\"\n",
    "    \n",
    "    data = {\n",
    "        \"messages\": [\n",
    "            {\n",
    "                \"role\": \"system\",\n",
    "                \"content\": system_instruction\n",
    "            },\n",
    "            {\n",
    "                \"role\": \"user\",\n",
    "                \"content\": formated_question\n",
    "            }\n",
    "        ],\n",
    "        \"model\": \"deepseek-ai/DeepSeek-R1\",\n",
    "        \"temperature\": 0.1,\n",
    "        \"top_p\": 0.2\n",
    "    }\n",
    "    \n",
    "    response = requests.post(url, headers=headers, json=data)\n",
    "    return response.json()"
   ]
  },
  {
   "cell_type": "code",
   "execution_count": 17,
   "id": "e2de0f03-980b-44c6-9e2c-9de6c2f8c251",
   "metadata": {},
   "outputs": [
    {
     "name": "stdout",
     "output_type": "stream",
     "text": [
      "<Response [200]>\n"
     ]
    }
   ],
   "source": [
    "# testing api calling\n",
    "\n",
    "formatted_sample = format_question(validation[1])\n",
    "\n",
    "response_json  = api_calling(formatted_sample)"
   ]
  },
  {
   "cell_type": "code",
   "execution_count": 20,
   "id": "1ce71645-e9d5-46b1-bbe7-60b7b458b93f",
   "metadata": {},
   "outputs": [
    {
     "data": {
      "text/plain": [
       "{'id': 'dcf81e9f53784cfda4ed41936ee4ef13',\n",
       " 'object': 'chat.completion',\n",
       " 'created': 1739942514,\n",
       " 'model': 'deepseek-ai/DeepSeek-R1',\n",
       " 'choices': [{'index': 0,\n",
       "   'message': {'role': 'assistant',\n",
       "    'content': \"<think>\\nOkay, let's see. The question is asking which of the following does not exhibit metamerism. The options are A: Secondary amine, B: Ketone, C: Alcohol, D: Ether.\\n\\nFirst, I need to remember what metamerism is. Metamerism is a type of structural isomerism where compounds have the same molecular formula but different alkyl groups attached to the same functional group. This usually happens in compounds where there's a functional group that can have different alkyl chains on either side. \\n\\nSo, let's go through each option. \\n\\nOption A: Secondary amine. Secondary amines have the structure R2NH. The two R groups can be different, so they can exhibit metamerism. For example, if one R is methyl and the other is ethyl, that's a different isomer compared to both being propyl or something. So secondary amines do show metamerism. \\n\\nOption B: Ketone. Ketones have the structure R-CO-R'. Here, both R and R' are alkyl groups. So, if the two R groups are different, like methyl and ethyl, that's a different isomer from, say, ethyl and propyl. So ketones can have metamerism. For example, pentan-2-one and 3-methylbutan-2-one might be metamers. Wait, no, maybe I'm mixing up with chain isomerism. Wait, metamerism specifically requires the same functional group but different alkyl chains on either side. So yes, ketones can have metamerism. For example, diethyl ketone (R and R' both ethyl) vs. methyl propyl ketone (methyl and propyl). So B can show metamerism. \\n\\nOption C: Alcohol. Alcohols have the structure R-OH. The functional group is -OH. For metamerism, there needs to be a functional group that allows different alkyl groups on either side. But in alcohols, the -OH is at the end. Wait, unless it's a secondary or tertiary alcohol? Wait, no. Even in secondary alcohols, the structure is R2CHOH. But the functional group is still -OH attached to a carbon. The metamerism would require that the functional group is between two alkyl groups, like in ethers (R-O-R') or ketones (R-CO-R'). In alcohols, the -OH is on a carbon that's connected to other carbons, but the functional group itself isn't between two alkyl groups. So alcohols don't exhibit metamerism. Because metamerism is about the arrangement around a functional group that's in the middle. For example, ethers have O in the middle, so R-O-R' can have different R and R' groups. Similarly, ketones have the carbonyl group in the middle. But alcohols have the -OH at a terminal position (even if it's on a secondary carbon, the functional group isn't splitting the chain into two parts). So alcohols don't show metamerism. \\n\\nOption D: Ether. Ethers are R-O-R'. Here, the oxygen is in the middle, so different combinations of R and R' groups can lead to metamerism. For example, ethyl methyl ether vs. diethyl ether would have different structures but same molecular formula if the total carbons are same. Wait, no, diethyl ether is C4H10O, while methyl propyl ether is also C4H10O. So those are metamers. So ethers do exhibit metamerism. \\n\\nSo the question is asking which does NOT exhibit metamerism. The options are A, B, C, D. From the above analysis, alcohols (option C) do not exhibit metamerism. The others (secondary amines, ketones, ethers) do. Therefore, the correct answer should be option C: অ্যালকোহল.\\n</think>\\n\\nThe correct answer is **C: অ্যালকোহল** (Alcohol)।  \\n\\n**ব্যাখ্যা:**  \\nমেটামারিজম হলো একটি প্রকার গঠনগত সমাণুতা, যেখানে যৌগগুলির আণবিক সংকেত একই থাকে কিন্তু কার্যকরী মূলের উভয় পাশে ভিন্ন ভিন্ন অ্যালকাইল গ্রুপ যুক্ত থাকে। যেমন: ইথার (R-O-R') বা কিটোন (R-CO-R')-এ এই বৈশিষ্ট্য দেখা যায়। অ্যালকোহলে (R-OH) কার্যকরী মূল (-OH) একটি কার্বনের সাথে যুক্ত থাকে এবং এটি দুটি অ্যালকাইল গ্রুপের মাঝখানে অবস্থান করে না। ফলে অ্যালকোহলে মেটামারিজম সম্ভব নয়। অন্যদিকে, সেকেন্ডারি অ্যামিন (R₂NH), কিটোন (R-CO-R'), এবং ইথার (R-O-R')-এ মেটামারিজম পরিলক্ষিত হয়।\"},\n",
       "   'finish_reason': 'stop',\n",
       "   'logprobs': None}],\n",
       " 'usage': {'prompt_tokens': 134,\n",
       "  'total_tokens': 1163,\n",
       "  'completion_tokens': 1029}}"
      ]
     },
     "execution_count": 20,
     "metadata": {},
     "output_type": "execute_result"
    }
   ],
   "source": [
    "response_json"
   ]
  },
  {
   "cell_type": "code",
   "execution_count": null,
   "id": "0eef3769-c8a8-4efa-aabd-c3810376b49e",
   "metadata": {},
   "outputs": [],
   "source": []
  }
 ],
 "metadata": {
  "kernelspec": {
   "display_name": "Python 3",
   "language": "python",
   "name": "python3"
  },
  "language_info": {
   "codemirror_mode": {
    "name": "ipython",
    "version": 3
   },
   "file_extension": ".py",
   "mimetype": "text/x-python",
   "name": "python",
   "nbconvert_exporter": "python",
   "pygments_lexer": "ipython3",
   "version": "3.10.10"
  }
 },
 "nbformat": 4,
 "nbformat_minor": 5
}
